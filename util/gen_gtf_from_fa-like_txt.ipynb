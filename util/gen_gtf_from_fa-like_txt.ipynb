{
 "cells": [
  {
   "cell_type": "markdown",
   "id": "b4117dad",
   "metadata": {},
   "source": [
    "# How to generate GTF file from fa file?"
   ]
  },
  {
   "cell_type": "markdown",
   "id": "9b2c4017",
   "metadata": {},
   "source": [
    "Also read `gen_gtf_from_fa-like_txt.r`. Read the file as a data table and select the names of the gene sequences (ie, lines with `>` in them)"
   ]
  },
  {
   "cell_type": "code",
   "execution_count": 10,
   "id": "406b8730",
   "metadata": {},
   "outputs": [],
   "source": [
    "data.table::fread('transgene.txt',header = F)->sq\n",
    "sq[grepl(t(sq),pattern = '>')] -> tgNames"
   ]
  },
  {
   "cell_type": "markdown",
   "id": "4e8f7b20",
   "metadata": {},
   "source": [
    "Try to find the sequences that correpsond to each name, and then find the length of each sequence."
   ]
  },
  {
   "cell_type": "code",
   "execution_count": 12,
   "id": "f50d8090",
   "metadata": {
    "tags": []
   },
   "outputs": [],
   "source": [
    "paste0(t(sq),collapse = '')->sq1\n",
    "strsplit(sq1,split = paste0(tgNames$V1,collapse = '|'))->seqs\n",
    "tail(unlist(seqs), -1) -> seqs"
   ]
  },
  {
   "cell_type": "markdown",
   "id": "16be01e5",
   "metadata": {},
   "source": [
    "Change the names to remove the `>` before each name, then create the rest of the columns. The source of the names are custom, and the features are `exon` because that's what STARsolo needs. We also assign scores to be `500`, but there's honestly little indications of what the scores might do (just following in the footsteps of hERVd). We assume they're on `+` strand and no frames (we're not looking for proteins anyways...)."
   ]
  },
  {
   "cell_type": "code",
   "execution_count": null,
   "id": "115fa473",
   "metadata": {},
   "outputs": [],
   "source": [
    "sapply(tgNames$V1, function(i) gsub(\"> \", \"\", i))->seqname\n",
    "rep(c(\"custom_\"), each=length(seqname))->source\n",
    "rep(c(\"exon\"), each=length(seqname))->feature\n",
    "rep(c(1), each=length(seqname))->start\n",
    "       \n",
    "sapply(seqs, function(i) nchar(i))->end\n",
    "rep(c(\"500\"), each=length(seqname))->score\n",
    "rep(c(\"+\"), each=length(seqname))->strand # I think they are + right?\n",
    "rep(c(\".\"), each=length(seqname))->frame\n",
    "\n",
    "sapply(1:length(seqname), function(x) paste0(\"gene_id \\\"custom_\", x, \"\\\"\", collapse=''))->gene_id\n",
    "sapply(seqname, function(x) paste0(\"gene_name \\\"\", x, \"\\\"\", collapse=''))->gene_name\n",
    "\n",
    "mapply(function(x, y) paste0(x, \"; \", y), gene_id, gene_name) -> attr"
   ]
  },
  {
   "cell_type": "markdown",
   "id": "805fd6c5",
   "metadata": {},
   "source": [
    "Write the columns to a .gtf file. "
   ]
  },
  {
   "cell_type": "code",
   "execution_count": null,
   "id": "b851345b",
   "metadata": {},
   "outputs": [],
   "source": [
    "gtf <- data.table(\n",
    "  seqname=seqname,  \n",
    "  source=source,\n",
    "  feature=feature,\n",
    "  start=start,\n",
    "  end=end,\n",
    "  score=score,\n",
    "  strand=strand,\n",
    "  frame=frame,\n",
    "  attribute=attr\n",
    ")\n",
    "\n",
    "# don't forget to remove the row names\n",
    "write.table(gtf, file='transgene.gtf', quote=FALSE, sep='\\t', col.names = F, row.names = F)"
   ]
  }
 ],
 "metadata": {
  "kernelspec": {
   "display_name": "R_jupyter_4.3.2",
   "language": "R",
   "name": "r_jupyter_4.3.2"
  },
  "language_info": {
   "codemirror_mode": "r",
   "file_extension": ".r",
   "mimetype": "text/x-r-source",
   "name": "R",
   "pygments_lexer": "r",
   "version": "4.3.3"
  }
 },
 "nbformat": 4,
 "nbformat_minor": 5
}
